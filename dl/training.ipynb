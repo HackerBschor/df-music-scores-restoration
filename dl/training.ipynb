{
 "cells": [
  {
   "cell_type": "code",
   "execution_count": null,
   "outputs": [],
   "source": [
    "import torch\n",
    "from torch import nn\n",
    "from torchvision import datasets, transforms, models\n",
    "from torch import optim\n",
    "from collections import OrderedDict\n",
    "from model import Denoiser"
   ],
   "metadata": {
    "collapsed": false
   },
   "id": "bc71a105637e6a8d"
  },
  {
   "cell_type": "code",
   "execution_count": null,
   "outputs": [],
   "source": [
    "# Import the model\n",
    "model = Denoiser()"
   ],
   "metadata": {
    "collapsed": false
   },
   "id": "5f002eae9afb905e"
  },
  {
   "cell_type": "code",
   "execution_count": null,
   "outputs": [],
   "source": [
    "# defining the loss function\n",
    "criterion = nn.MSELoss()\n",
    "\n",
    "# defining the optimizer\n",
    "optimizer = torch.optim.Adam(model.parameters(), lr=0.001)"
   ],
   "metadata": {
    "collapsed": false
   },
   "id": "9e94b70df78e2a8f"
  },
  {
   "cell_type": "code",
   "execution_count": null,
   "outputs": [],
   "source": [
    "if torch.cuda.is_available():\n",
    "\tprint('Cuda Available..Training on GPU')\n",
    "\tmodel = model.cuda()\n",
    "else:\n",
    "\tprint('CUDA not available..Traning on CPU')"
   ],
   "metadata": {
    "collapsed": false
   },
   "id": "ccca534872fa438f"
  },
  {
   "cell_type": "code",
   "execution_count": null,
   "outputs": [],
   "source": [],
   "metadata": {
    "collapsed": false
   },
   "id": "e129f8fdb2e140ac"
  }
 ],
 "metadata": {
  "kernelspec": {
   "display_name": "Python 3",
   "language": "python",
   "name": "python3"
  },
  "language_info": {
   "codemirror_mode": {
    "name": "ipython",
    "version": 2
   },
   "file_extension": ".py",
   "mimetype": "text/x-python",
   "name": "python",
   "nbconvert_exporter": "python",
   "pygments_lexer": "ipython2",
   "version": "2.7.6"
  }
 },
 "nbformat": 4,
 "nbformat_minor": 5
}
