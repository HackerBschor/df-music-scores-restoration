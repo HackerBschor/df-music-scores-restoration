{
 "cells": [
  {
   "cell_type": "code",
   "execution_count": 1,
   "outputs": [],
   "source": [
    "import pandas as pd\n",
    "import matplotlib.pyplot as plt\n",
    "from torch import nn\n",
    "from torch.utils.data import DataLoader\n",
    "\n",
    "from src.util import *\n",
    "import os"
   ],
   "metadata": {
    "collapsed": false,
    "ExecuteTime": {
     "end_time": "2024-01-13T09:28:30.027577400Z",
     "start_time": "2024-01-13T09:28:28.163284Z"
    }
   },
   "id": "9605069def94158c"
  },
  {
   "cell_type": "markdown",
   "source": [
    "### Variables"
   ],
   "metadata": {
    "collapsed": false
   },
   "id": "d7f4ee20f4d0ef16"
  },
  {
   "cell_type": "code",
   "execution_count": 2,
   "outputs": [],
   "source": [
    "# Folders containing the clean and dirty images\n",
    "path_clean: str = \"../dataset/pairs/clean\"\n",
    "path_dirty: str = \"../dataset/pairs/dirty\"\n",
    "assert os.path.exists(path_clean)\n",
    "assert os.path.exists(path_dirty)\n",
    "\n",
    "# Index to map the clean images to the dirty images\n",
    "index_file: str = \"../dataset/pairs/clean_dirty_index.csv\"\n",
    "assert os.path.isfile(index_file)\n",
    "assert index_file[-3:] == \"csv\"\n",
    "\n",
    "# save folder\n",
    "save_path = \"../dl/images/baseline_mock/\""
   ],
   "metadata": {
    "collapsed": false,
    "ExecuteTime": {
     "end_time": "2024-01-13T09:28:30.031577200Z",
     "start_time": "2024-01-13T09:28:30.009580600Z"
    }
   },
   "id": "cbd7a47cd26c9fdb"
  },
  {
   "cell_type": "markdown",
   "source": [
    "# Mocking Baselines\n",
    "\n",
    "## Loading Test Data"
   ],
   "metadata": {
    "collapsed": false
   },
   "id": "5218389c2bd2a3dc"
  },
  {
   "cell_type": "code",
   "execution_count": 3,
   "outputs": [
    {
     "name": "stdout",
     "output_type": "stream",
     "text": [
      "New Sizes: train 165605 images, test 9200 images, validation 9205 images\n"
     ]
    }
   ],
   "source": [
    "df_clean_dirty = pd.read_csv(index_file).set_index(\"file_clean\").sort_index()\n",
    "df_clean = pd.Series(df_clean_dirty.index.unique())\n",
    "\n",
    "limits = [int(limit * len(df_clean)) for limit in (0.9, 0.05, 0.05)]\n",
    "\n",
    "train_dataset = df_clean[:limits[0]]\n",
    "test_dataset = df_clean[limits[0]:limits[0] + limits[1]]\n",
    "valid_dataset = df_clean[limits[0] + limits[1]:]\n",
    "\n",
    "train_dataset = pd.DataFrame(train_dataset) \\\n",
    "    .merge(df_clean_dirty, left_on=\"file_clean\", right_index=True).values.tolist()\n",
    "\n",
    "test_dataset = pd.DataFrame(test_dataset) \\\n",
    "    .merge(df_clean_dirty, left_on=\"file_clean\", right_index=True).values.tolist()\n",
    "\n",
    "valid_dataset = pd.DataFrame(valid_dataset) \\\n",
    "    .merge(df_clean_dirty, left_on=\"file_clean\", right_index=True).values.tolist()\n",
    "\n",
    "print(f\"New Sizes: train {len(train_dataset)} images, test {len(test_dataset)} images, validation {len(valid_dataset)} images\")\n",
    "\n",
    "train_loader = DataLoader(train_dataset, batch_size=1, shuffle=True)\n",
    "test_loader = DataLoader(test_dataset, batch_size=1, shuffle=True)\n",
    "valid_loader = DataLoader(valid_dataset, batch_size=1, shuffle=True)"
   ],
   "metadata": {
    "collapsed": false,
    "ExecuteTime": {
     "end_time": "2024-01-13T09:28:33.092132500Z",
     "start_time": "2024-01-13T09:28:32.583253Z"
    }
   },
   "id": "74bdb85ba45a8819"
  },
  {
   "cell_type": "code",
   "execution_count": 4,
   "outputs": [],
   "source": [
    "# Defining transformer and loss function\n",
    "criterion = nn.MSELoss()"
   ],
   "metadata": {
    "collapsed": false,
    "ExecuteTime": {
     "end_time": "2024-01-13T09:28:34.336550600Z",
     "start_time": "2024-01-13T09:28:34.334226700Z"
    }
   },
   "id": "975acaf33e508ac1"
  },
  {
   "cell_type": "markdown",
   "source": [
    "## Baseline Returning white page"
   ],
   "metadata": {
    "collapsed": false
   },
   "id": "2f2446d3fdaddb25"
  },
  {
   "cell_type": "code",
   "execution_count": 6,
   "id": "initial_id",
   "metadata": {
    "collapsed": true,
    "ExecuteTime": {
     "end_time": "2024-01-13T09:48:43.466356500Z",
     "start_time": "2024-01-13T09:29:12.718397100Z"
    }
   },
   "outputs": [
    {
     "name": "stdout",
     "output_type": "stream",
     "text": [
      "Test  0.9999\n",
      "Mean MSE Loss: 0.13809885613053388\n"
     ]
    }
   ],
   "source": [
    "test_losses_white_image = []\n",
    "\n",
    "with torch.no_grad():\n",
    "    for i, (filenames_clean, filenames_dirty) in enumerate(test_loader):\n",
    "        print(\"\\rTest \", round(i / len(test_loader), 4), end=\"\")\n",
    "        \n",
    "        images_clean = [preprocess_file(path_clean, ip, (416, 308)) for ip in filenames_clean]\n",
    "        images_clean = torch.stack([flatten_tensor_list(t) for t, _ in images_clean]).squeeze(0)\n",
    "        \n",
    "        prediction_mock = torch.ones(images_clean.shape)\n",
    "        \n",
    "        if torch.cuda.is_available():\n",
    "            prediction_mock, images_clean = prediction_mock.cuda(), images_clean.cuda()\n",
    "\n",
    "        loss = criterion(prediction_mock, images_clean)\n",
    "        test_losses_white_image.append(loss.item())\n",
    "\n",
    "print(f\"\\nMean MSE Loss: {sum(test_losses_white_image) / len(test_loader)}\")"
   ]
  },
  {
   "cell_type": "code",
   "execution_count": 7,
   "outputs": [
    {
     "data": {
      "text/plain": "<Figure size 640x480 with 1 Axes>",
      "image/png": "[encoded data removed]"
     },
     "metadata": {},
     "output_type": "display_data"
    }
   ],
   "source": [
    "plt.hist(test_losses_white_image)\n",
    "plt.savefig(f\"{save_path}_white_image_test_losses.png\")\n",
    "plt.show()"
   ],
   "metadata": {
    "collapsed": false,
    "ExecuteTime": {
     "end_time": "2024-01-13T09:48:43.588057600Z",
     "start_time": "2024-01-13T09:48:43.464356800Z"
    }
   },
   "id": "303baecd8f8815b6"
  },
  {
   "cell_type": "markdown",
   "source": [
    "## Baseline Returning Input Image"
   ],
   "metadata": {
    "collapsed": false
   },
   "id": "2c6aea79b79018b4"
  },
  {
   "cell_type": "code",
   "execution_count": 9,
   "outputs": [
    {
     "name": "stdout",
     "output_type": "stream",
     "text": [
      "Test  0.9999\n",
      "Mean MSE Loss: 0.4885219611546658\n"
     ]
    }
   ],
   "source": [
    "test_losses_input_image = []\n",
    "\n",
    "with torch.no_grad():\n",
    "    for i, (filenames_clean, filenames_dirty) in enumerate(test_loader):\n",
    "        print(\"\\rTest \", round(i / len(test_loader), 4), end=\"\")\n",
    "\n",
    "        images_clean = [preprocess_file(path_clean, ip, (416, 308)) for ip in filenames_clean]\n",
    "        images_clean = torch.stack([flatten_tensor_list(t) for t, _ in images_clean]).squeeze(0)\n",
    "        \n",
    "        prediction_mock = [preprocess_file(path_dirty, ib, (416, 308)) for ib in filenames_dirty]\n",
    "        prediction_mock = torch.stack([flatten_tensor_list(t) for t, _ in prediction_mock]).squeeze(0)\n",
    "\n",
    "        if torch.cuda.is_available():\n",
    "            prediction_mock, images_clean = prediction_mock.cuda(), images_clean.cuda()\n",
    "\n",
    "        loss = criterion(prediction_mock, images_clean)\n",
    "        test_losses_input_image.append(loss.item())\n",
    "\n",
    "print(f\"\\nMean MSE Loss: {sum(test_losses_input_image) / len(test_loader)}\")"
   ],
   "metadata": {
    "collapsed": false,
    "ExecuteTime": {
     "end_time": "2024-01-13T10:22:34.703783100Z",
     "start_time": "2024-01-13T09:50:31.085773Z"
    }
   },
   "id": "8fadc9b28b4d4da6"
  },
  {
   "cell_type": "code",
   "execution_count": 10,
   "outputs": [
    {
     "data": {
      "text/plain": "<Figure size 640x480 with 1 Axes>",
      "image/png": "[encoded data removed]"
     },
     "metadata": {},
     "output_type": "display_data"
    }
   ],
   "source": [
    "plt.hist(test_losses_input_image)\n",
    "plt.savefig(f\"{save_path}_input_image_test_losses.png\")\n",
    "plt.show()"
   ],
   "metadata": {
    "collapsed": false,
    "ExecuteTime": {
     "end_time": "2024-01-13T10:22:34.789598Z",
     "start_time": "2024-01-13T10:22:34.701773900Z"
    }
   },
   "id": "7543d65d0c132588"
  },
  {
   "cell_type": "code",
   "execution_count": 11,
   "outputs": [
    {
     "name": "stdout",
     "output_type": "stream",
     "text": [
      "Test  0.9999\n",
      "Mean MSE Loss: 0.39225561916828156\n"
     ]
    }
   ],
   "source": [
    "test_losses_random = []\n",
    "\n",
    "with torch.no_grad():\n",
    "    for i, (filenames_clean, filenames_dirty) in enumerate(test_loader):\n",
    "        print(\"\\rTest \", round(i / len(test_loader), 4), end=\"\")\n",
    "\n",
    "        images_clean = [preprocess_file(path_clean, ip, (416, 308)) for ip in filenames_clean]\n",
    "        images_clean = torch.stack([flatten_tensor_list(t) for t, _ in images_clean]).squeeze(0)\n",
    "        \n",
    "        prediction_mock = torch.rand(images_clean.shape)\n",
    "\n",
    "        if torch.cuda.is_available():\n",
    "            prediction_mock, images_clean = prediction_mock.cuda(), images_clean.cuda()\n",
    "\n",
    "        loss = criterion(prediction_mock, images_clean)\n",
    "        test_losses_random.append(loss.item())\n",
    "\n",
    "print(f\"\\nMean MSE Loss: {sum(test_losses_random) / len(test_loader)}\")"
   ],
   "metadata": {
    "collapsed": false,
    "ExecuteTime": {
     "end_time": "2024-01-13T10:42:30.867485200Z",
     "start_time": "2024-01-13T10:22:34.787599100Z"
    }
   },
   "id": "2d89e6dda5bb2a58"
  },
  {
   "cell_type": "code",
   "execution_count": 12,
   "outputs": [
    {
     "data": {
      "text/plain": "<Figure size 640x480 with 1 Axes>",
      "image/png": "[encoded data removed]"
     },
     "metadata": {},
     "output_type": "display_data"
    }
   ],
   "source": [
    "plt.hist(test_losses_random)\n",
    "plt.savefig(f\"{save_path}_input_image_test_losses.png\")\n",
    "plt.show()"
   ],
   "metadata": {
    "collapsed": false,
    "ExecuteTime": {
     "end_time": "2024-01-13T10:42:30.960575500Z",
     "start_time": "2024-01-13T10:42:30.864975300Z"
    }
   },
   "id": "2fe44404f0ce04e9"
  }
 ],
 "metadata": {
  "kernelspec": {
   "display_name": "Python 3",
   "language": "python",
   "name": "python3"
  },
  "language_info": {
   "codemirror_mode": {
    "name": "ipython",
    "version": 2
   },
   "file_extension": ".py",
   "mimetype": "text/x-python",
   "name": "python",
   "nbconvert_exporter": "python",
   "pygments_lexer": "ipython2",
   "version": "2.7.6"
  }
 },
 "nbformat": 4,
 "nbformat_minor": 5
}
