{
 "cells": [
  {
   "cell_type": "code",
   "execution_count": 12,
   "outputs": [],
   "source": [
    "import pandas as pd\n",
    "import matplotlib.pyplot as plt\n",
    "from torch import nn\n",
    "from torch.utils.data import DataLoader\n",
    "\n",
    "from dl.util import *\n",
    "import os"
   ],
   "metadata": {
    "collapsed": false,
    "ExecuteTime": {
     "end_time": "2023-12-13T16:45:12.523157300Z",
     "start_time": "2023-12-13T16:45:12.491174600Z"
    }
   },
   "id": "9605069def94158c"
  },
  {
   "cell_type": "markdown",
   "source": [
    "### Variables"
   ],
   "metadata": {
    "collapsed": false
   },
   "id": "d7f4ee20f4d0ef16"
  },
  {
   "cell_type": "code",
   "execution_count": 13,
   "outputs": [],
   "source": [
    "# Folders containing the clean and dirty images\n",
    "path_clean: str = \"../dataset/pairs/clean/\"\n",
    "path_dirty: str = \"../dataset/pairs/dirty/\"\n",
    "assert os.path.exists(path_clean)\n",
    "assert os.path.exists(path_dirty)\n",
    "\n",
    "# Index to map the clean images to the dirty images\n",
    "index_file: str = \"../dataset/pairs/clean_dirty_index.csv\"\n",
    "assert os.path.isfile(index_file)\n",
    "assert index_file[-3:] == \"csv\"\n",
    "\n",
    "# save folder\n",
    "save_path = \"../dl/images/baseline_mock/\"\n",
    "\n",
    "training_subset_size = None\n",
    "target_size: Tuple[int, int] = (3508, 2480)"
   ],
   "metadata": {
    "collapsed": false,
    "ExecuteTime": {
     "end_time": "2023-12-13T16:45:12.532198300Z",
     "start_time": "2023-12-13T16:45:12.525157800Z"
    }
   },
   "id": "cbd7a47cd26c9fdb"
  },
  {
   "cell_type": "markdown",
   "source": [
    "# Mocking Baselines\n",
    "\n",
    "## Loading Test Data"
   ],
   "metadata": {
    "collapsed": false
   },
   "id": "5218389c2bd2a3dc"
  },
  {
   "cell_type": "code",
   "execution_count": 14,
   "outputs": [
    {
     "name": "stdout",
     "output_type": "stream",
     "text": [
      "New Sizes: train 132484 images, test 7360 images, validation 7364 images\n"
     ]
    }
   ],
   "source": [
    "df_clean_dirty = pd.read_csv(index_file).set_index(\"file_clean\").sort_index()\n",
    "df_clean = pd.Series(df_clean_dirty.index.unique())\n",
    "\n",
    "\n",
    "limits = [int(limit * len(df_clean)) for limit in (0.9, 0.05, 0.05)]\n",
    "\n",
    "train_dataset = df_clean[:limits[0]]\n",
    "test_dataset = df_clean[limits[0]:limits[0] + limits[1]]\n",
    "valid_dataset = df_clean[limits[0] + limits[1]:]\n",
    "\n",
    "train_dataset = pd.DataFrame(train_dataset) \\\n",
    "    .merge(df_clean_dirty, left_on=\"file_clean\", right_index=True).values.tolist()\n",
    "\n",
    "test_dataset = pd.DataFrame(test_dataset) \\\n",
    "    .merge(df_clean_dirty, left_on=\"file_clean\", right_index=True).values.tolist()\n",
    "\n",
    "valid_dataset = pd.DataFrame(valid_dataset) \\\n",
    "    .merge(df_clean_dirty, left_on=\"file_clean\", right_index=True).values.tolist()\n",
    "\n",
    "print(f\"New Sizes: train {len(train_dataset)} images, test {len(test_dataset)} images, validation {len(valid_dataset)} images\")\n",
    "\n",
    "train_loader = DataLoader(train_dataset, batch_size=2, shuffle=True)\n",
    "test_loader = DataLoader(test_dataset, batch_size=2, shuffle=True)\n",
    "valid_loader = DataLoader(valid_dataset, batch_size=2, shuffle=True)"
   ],
   "metadata": {
    "collapsed": false,
    "ExecuteTime": {
     "end_time": "2023-12-13T16:45:12.914688Z",
     "start_time": "2023-12-13T16:45:12.529198100Z"
    }
   },
   "id": "74bdb85ba45a8819"
  },
  {
   "cell_type": "markdown",
   "source": [],
   "metadata": {
    "collapsed": false
   },
   "id": "893bf9a38644abe4"
  },
  {
   "cell_type": "code",
   "execution_count": 15,
   "outputs": [],
   "source": [
    "# Defining transformer and loss function\n",
    "transformer = generate_preprocess_transformer(target_size)\n",
    "criterion = nn.MSELoss()"
   ],
   "metadata": {
    "collapsed": false,
    "ExecuteTime": {
     "end_time": "2023-12-13T16:45:12.914688Z",
     "start_time": "2023-12-13T16:45:12.912691200Z"
    }
   },
   "id": "975acaf33e508ac1"
  },
  {
   "cell_type": "markdown",
   "source": [
    "## Baseline Returning white page"
   ],
   "metadata": {
    "collapsed": false
   },
   "id": "2f2446d3fdaddb25"
  },
  {
   "cell_type": "code",
   "execution_count": 16,
   "id": "initial_id",
   "metadata": {
    "collapsed": true,
    "ExecuteTime": {
     "end_time": "2023-12-13T16:55:08.601294300Z",
     "start_time": "2023-12-13T16:45:12.915687200Z"
    }
   },
   "outputs": [
    {
     "name": "stdout",
     "output_type": "stream",
     "text": [
      "Test  0.9997\n",
      "Mean MSE Loss: 0.14643852768627846\n"
     ]
    }
   ],
   "source": [
    "test_losses_white_image = []\n",
    "\n",
    "with torch.no_grad():\n",
    "    for i, (filenames_clean, filenames_dirty) in enumerate(test_loader):\n",
    "        print(\"\\rTest \", round(i / len(test_loader), 4), end=\"\")\n",
    "\n",
    "        images_clean = torch.stack([preprocess(path_clean, fc, transformer) for fc in filenames_clean])\n",
    "        prediction_mock = torch.ones(2, 1, target_size[0], target_size[1])\n",
    "\n",
    "        if torch.cuda.is_available():\n",
    "            prediction_mock, images_clean = prediction_mock.cuda(), images_clean.cuda()\n",
    "\n",
    "        loss = criterion(prediction_mock, images_clean)\n",
    "        test_losses_white_image.append(loss.item())\n",
    "\n",
    "print(f\"\\nMean MSE Loss: {sum(test_losses_white_image) / len(test_loader)}\")"
   ]
  },
  {
   "cell_type": "code",
   "execution_count": 17,
   "outputs": [
    {
     "data": {
      "text/plain": "<Figure size 640x480 with 1 Axes>",
      "image/png": "[encoded data removed]"
     },
     "metadata": {},
     "output_type": "display_data"
    }
   ],
   "source": [
    "plt.hist(test_losses_white_image)\n",
    "plt.savefig(f\"{save_path}_white_image_test_losses.png\")\n",
    "plt.show()"
   ],
   "metadata": {
    "collapsed": false,
    "ExecuteTime": {
     "end_time": "2023-12-13T16:55:08.604796700Z",
     "start_time": "2023-12-13T16:55:08.495557300Z"
    }
   },
   "id": "303baecd8f8815b6"
  },
  {
   "cell_type": "markdown",
   "source": [
    "## Baseline Returning Input Image"
   ],
   "metadata": {
    "collapsed": false
   },
   "id": "2c6aea79b79018b4"
  },
  {
   "cell_type": "code",
   "execution_count": 18,
   "outputs": [
    {
     "name": "stdout",
     "output_type": "stream",
     "text": [
      "Test  0.9997\n",
      "Mean MSE Loss: 0.033072131277019606\n"
     ]
    }
   ],
   "source": [
    "test_losses_input_image = []\n",
    "\n",
    "with torch.no_grad():\n",
    "    for i, (filenames_clean, filenames_dirty) in enumerate(test_loader):\n",
    "        print(\"\\rTest \", round(i / len(test_loader), 4), end=\"\")\n",
    "\n",
    "        images_clean = torch.stack([preprocess(path_clean, fc, transformer) for fc in filenames_clean])\n",
    "        prediction_mock = torch.stack([preprocess(path_dirty, fd, transformer) for fd in filenames_dirty])\n",
    "\n",
    "        if torch.cuda.is_available():\n",
    "            prediction_mock, images_clean = prediction_mock.cuda(), images_clean.cuda()\n",
    "\n",
    "        loss = criterion(prediction_mock, images_clean)\n",
    "        test_losses_input_image.append(loss.item())\n",
    "\n",
    "print(f\"\\nMean MSE Loss: {sum(test_losses_input_image) / len(test_loader)}\")"
   ],
   "metadata": {
    "collapsed": false,
    "ExecuteTime": {
     "end_time": "2023-12-13T17:15:15.527461900Z",
     "start_time": "2023-12-13T16:55:08.579281Z"
    }
   },
   "id": "8fadc9b28b4d4da6"
  },
  {
   "cell_type": "code",
   "execution_count": 19,
   "outputs": [
    {
     "data": {
      "text/plain": "<Figure size 640x480 with 1 Axes>",
      "image/png": "[encoded data removed]"
     },
     "metadata": {},
     "output_type": "display_data"
    }
   ],
   "source": [
    "plt.hist(test_losses_input_image)\n",
    "plt.savefig(f\"{save_path}_input_image_test_losses.png\")\n",
    "plt.show()"
   ],
   "metadata": {
    "collapsed": false,
    "ExecuteTime": {
     "end_time": "2023-12-13T17:15:15.664409Z",
     "start_time": "2023-12-13T17:15:15.521461800Z"
    }
   },
   "id": "7543d65d0c132588"
  },
  {
   "cell_type": "code",
   "execution_count": 20,
   "outputs": [
    {
     "name": "stdout",
     "output_type": "stream",
     "text": [
      "Test  0.9997\n",
      "Mean MSE Loss: 1.3118556765758473\n"
     ]
    }
   ],
   "source": [
    "test_losses_random = []\n",
    "\n",
    "with torch.no_grad():\n",
    "    for i, (filenames_clean, filenames_dirty) in enumerate(test_loader):\n",
    "        print(\"\\rTest \", round(i / len(test_loader), 4), end=\"\")\n",
    "\n",
    "        images_clean = torch.stack([preprocess(path_clean, fc, transformer) for fc in filenames_clean])\n",
    "        prediction_mock = torch.rand(2, 1, target_size[0], target_size[1]) * 2 - 1\n",
    "\n",
    "        if torch.cuda.is_available():\n",
    "            prediction_mock, images_clean = prediction_mock.cuda(), images_clean.cuda()\n",
    "\n",
    "        loss = criterion(prediction_mock, images_clean)\n",
    "        test_losses_random.append(loss.item())\n",
    "\n",
    "print(f\"\\nMean MSE Loss: {sum(test_losses_random) / len(test_loader)}\")"
   ],
   "metadata": {
    "collapsed": false,
    "ExecuteTime": {
     "end_time": "2023-12-13T17:28:19.340796100Z",
     "start_time": "2023-12-13T17:15:15.606408800Z"
    }
   },
   "id": "2d89e6dda5bb2a58"
  },
  {
   "cell_type": "code",
   "execution_count": 21,
   "outputs": [
    {
     "data": {
      "text/plain": "<Figure size 640x480 with 1 Axes>",
      "image/png": "[encoded data removed]"
     },
     "metadata": {},
     "output_type": "display_data"
    }
   ],
   "source": [
    "plt.hist(test_losses_random)\n",
    "plt.savefig(f\"{save_path}_input_image_test_losses.png\")\n",
    "plt.show()"
   ],
   "metadata": {
    "collapsed": false,
    "ExecuteTime": {
     "end_time": "2023-12-13T17:28:19.391773700Z",
     "start_time": "2023-12-13T17:28:19.312265100Z"
    }
   },
   "id": "2fe44404f0ce04e9"
  }
 ],
 "metadata": {
  "kernelspec": {
   "display_name": "Python 3",
   "language": "python",
   "name": "python3"
  },
  "language_info": {
   "codemirror_mode": {
    "name": "ipython",
    "version": 2
   },
   "file_extension": ".py",
   "mimetype": "text/x-python",
   "name": "python",
   "nbconvert_exporter": "python",
   "pygments_lexer": "ipython2",
   "version": "2.7.6"
  }
 },
 "nbformat": 4,
 "nbformat_minor": 5
}
