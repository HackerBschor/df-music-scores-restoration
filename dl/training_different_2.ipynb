{
 "cells": [
  {
   "cell_type": "code",
   "execution_count": 30,
   "outputs": [],
   "source": [
    "from datetime import datetime\n",
    "import random\n",
    "import time\n",
    "\n",
    "import matplotlib.pyplot as plt\n",
    "import pandas as pd\n",
    "\n",
    "import torch\n",
    "from PIL import Image\n",
    "from torch import nn\n",
    "from torch.utils.data import DataLoader\n",
    "from torchvision import transforms\n",
    "import torch.nn.functional as F\n",
    "\n",
    "import numpy as np\n",
    "\n",
    "random.seed(2)\n",
    "np.random.seed(2)"
   ],
   "metadata": {
    "collapsed": false,
    "ExecuteTime": {
     "end_time": "2023-12-12T09:08:04.682320900Z",
     "start_time": "2023-12-12T09:08:04.646327700Z"
    }
   },
   "id": "bc71a105637e6a8d"
  },
  {
   "cell_type": "markdown",
   "source": [
    "# Load the Data "
   ],
   "metadata": {
    "collapsed": false
   },
   "id": "38b0220883093934"
  },
  {
   "cell_type": "code",
   "execution_count": 31,
   "outputs": [
    {
     "data": {
      "text/plain": "                                                                                          file_broken\nfile_perfect                                                                                         \nBizet_Symphony_in_C_4mov_104.png                              Bizet_Symphony_in_C_4mov_104Bleed_0.png\nBizet_Symphony_in_C_4mov_104.png                      Bizet_Symphony_in_C_4mov_104Blur_Complete_0.png\nBizet_Symphony_in_C_4mov_104.png                            Bizet_Symphony_in_C_4mov_104CharDeg_0.png\nBizet_Symphony_in_C_4mov_104.png                               Bizet_Symphony_in_C_4mov_104Hole_0.png\nHaendel_Concertos_Grossos_Hwv319330_op06_Concer...  Haendel_Concertos_Grossos_Hwv319330_op06_Conce...",
      "text/html": "<div>\n<style scoped>\n    .dataframe tbody tr th:only-of-type {\n        vertical-align: middle;\n    }\n\n    .dataframe tbody tr th {\n        vertical-align: top;\n    }\n\n    .dataframe thead th {\n        text-align: right;\n    }\n</style>\n<table border=\"1\" class=\"dataframe\">\n  <thead>\n    <tr style=\"text-align: right;\">\n      <th></th>\n      <th>file_broken</th>\n    </tr>\n    <tr>\n      <th>file_perfect</th>\n      <th></th>\n    </tr>\n  </thead>\n  <tbody>\n    <tr>\n      <th>Bizet_Symphony_in_C_4mov_104.png</th>\n      <td>Bizet_Symphony_in_C_4mov_104Bleed_0.png</td>\n    </tr>\n    <tr>\n      <th>Bizet_Symphony_in_C_4mov_104.png</th>\n      <td>Bizet_Symphony_in_C_4mov_104Blur_Complete_0.png</td>\n    </tr>\n    <tr>\n      <th>Bizet_Symphony_in_C_4mov_104.png</th>\n      <td>Bizet_Symphony_in_C_4mov_104CharDeg_0.png</td>\n    </tr>\n    <tr>\n      <th>Bizet_Symphony_in_C_4mov_104.png</th>\n      <td>Bizet_Symphony_in_C_4mov_104Hole_0.png</td>\n    </tr>\n    <tr>\n      <th>Haendel_Concertos_Grossos_Hwv319330_op06_Concerto_Grosso_op6_n11_1mov_20.png</th>\n      <td>Haendel_Concertos_Grossos_Hwv319330_op06_Conce...</td>\n    </tr>\n  </tbody>\n</table>\n</div>"
     },
     "execution_count": 31,
     "metadata": {},
     "output_type": "execute_result"
    }
   ],
   "source": [
    "index_file = \"../dataset/pairs/perfect_broken_index.pkl\"\n",
    "path_broken = \"../dataset/pairs/broken\"\n",
    "path_perfect = \"../dataset/pairs/perfect\"\n",
    "\n",
    "df = pd.read_pickle(index_file)\n",
    "df = df[~df[\"file_broken\"].isnull()]\n",
    "df.head()"
   ],
   "metadata": {
    "collapsed": false,
    "ExecuteTime": {
     "end_time": "2023-12-12T09:08:04.684321700Z",
     "start_time": "2023-12-12T09:08:04.649640300Z"
    }
   },
   "id": "2cc11a140dce3eee"
  },
  {
   "cell_type": "code",
   "execution_count": 32,
   "outputs": [
    {
     "data": {
      "text/plain": "                     file_broken\nfile_perfect                    \nBach_AveMaria_0.png            4\nBach_AveMaria_1.png            4\nBach_AveMaria_2.png            4\nBach_AveMaria_3.png            4\nBach_AveMaria_4.png            4",
      "text/html": "<div>\n<style scoped>\n    .dataframe tbody tr th:only-of-type {\n        vertical-align: middle;\n    }\n\n    .dataframe tbody tr th {\n        vertical-align: top;\n    }\n\n    .dataframe thead th {\n        text-align: right;\n    }\n</style>\n<table border=\"1\" class=\"dataframe\">\n  <thead>\n    <tr style=\"text-align: right;\">\n      <th></th>\n      <th>file_broken</th>\n    </tr>\n    <tr>\n      <th>file_perfect</th>\n      <th></th>\n    </tr>\n  </thead>\n  <tbody>\n    <tr>\n      <th>Bach_AveMaria_0.png</th>\n      <td>4</td>\n    </tr>\n    <tr>\n      <th>Bach_AveMaria_1.png</th>\n      <td>4</td>\n    </tr>\n    <tr>\n      <th>Bach_AveMaria_2.png</th>\n      <td>4</td>\n    </tr>\n    <tr>\n      <th>Bach_AveMaria_3.png</th>\n      <td>4</td>\n    </tr>\n    <tr>\n      <th>Bach_AveMaria_4.png</th>\n      <td>4</td>\n    </tr>\n  </tbody>\n</table>\n</div>"
     },
     "execution_count": 32,
     "metadata": {},
     "output_type": "execute_result"
    }
   ],
   "source": [
    "files_broken_perfect = df.groupby(df.index).count()\n",
    "files_broken_perfect.head()"
   ],
   "metadata": {
    "collapsed": false,
    "ExecuteTime": {
     "end_time": "2023-12-12T09:08:04.730929800Z",
     "start_time": "2023-12-12T09:08:04.676321100Z"
    }
   },
   "id": "79e971e0de4499a3"
  },
  {
   "cell_type": "code",
   "execution_count": 33,
   "outputs": [
    {
     "data": {
      "text/plain": "0        Bach_AveMaria_0.png\n1        Bach_AveMaria_1.png\n2        Bach_AveMaria_2.png\n3        Bach_AveMaria_3.png\n4        Bach_AveMaria_4.png\n                ...         \n36797     generated_9_26.png\n36798      generated_9_3.png\n36799     generated_9_30.png\n36800      generated_9_6.png\n36801      generated_9_7.png\nName: file_perfect, Length: 36802, dtype: object"
     },
     "execution_count": 33,
     "metadata": {},
     "output_type": "execute_result"
    }
   ],
   "source": [
    "files_perfect = pd.Series(files_broken_perfect.index)\n",
    "files_perfect"
   ],
   "metadata": {
    "collapsed": false,
    "ExecuteTime": {
     "end_time": "2023-12-12T09:08:04.731934800Z",
     "start_time": "2023-12-12T09:08:04.709715700Z"
    }
   },
   "id": "c61643ef47c599eb"
  },
  {
   "cell_type": "code",
   "execution_count": 34,
   "outputs": [
    {
     "data": {
      "text/plain": "8018     Bach_Concertos_Bwv1048_Brandenburg_Concert_n3_...\n12143     Beethoven_Symphonies_Symphony_n2_op36_2mov_7.png\n8666     Bach_Harpsichord_Concertos_Bwv1052_Harpsichord...\n33843                                 generated_686_58.png\n12077         Beethoven_Symphonies_Symphony_n1_4mov_83.png\nName: file_perfect, dtype: object"
     },
     "execution_count": 34,
     "metadata": {},
     "output_type": "execute_result"
    }
   ],
   "source": [
    "train_on_subset = True\n",
    "subset_size = 500\n",
    "\n",
    "if train_on_subset:\n",
    "    files_perfect = files_perfect.sample(frac=1).sample(subset_size)\n",
    "\n",
    "files_perfect.head()"
   ],
   "metadata": {
    "collapsed": false,
    "ExecuteTime": {
     "end_time": "2023-12-12T09:08:04.731934800Z",
     "start_time": "2023-12-12T09:08:04.713142800Z"
    }
   },
   "id": "dbce16bc9a08a2b3"
  },
  {
   "cell_type": "markdown",
   "source": [
    "# Building train test and validation set"
   ],
   "metadata": {
    "collapsed": false
   },
   "id": "f3f9567e9b77c093"
  },
  {
   "cell_type": "markdown",
   "source": [],
   "metadata": {
    "collapsed": false
   },
   "id": "9ec3e93eb4157474"
  },
  {
   "cell_type": "code",
   "execution_count": 35,
   "outputs": [
    {
     "name": "stdout",
     "output_type": "stream",
     "text": [
      "Sizes: train 1800 , test 100 , validation 100\n"
     ]
    }
   ],
   "source": [
    "train_test_val = (0.9, 0.05, 0.05)\n",
    "limits = [int(limit * len(files_perfect)) for limit in train_test_val]\n",
    "\n",
    "train_dataset = files_perfect[:limits[0]]\n",
    "test_dataset = files_perfect[limits[0]:limits[0] + limits[1]]\n",
    "valid_dataset = files_perfect[limits[0] + limits[1]:]\n",
    "\n",
    "train_dataset = pd.DataFrame(train_dataset)\\\n",
    "    .merge(df, left_on=\"file_perfect\", right_index=True).values.tolist()\n",
    "\n",
    "test_dataset = pd.DataFrame(test_dataset)\\\n",
    "    .merge(df, left_on=\"file_perfect\", right_index=True).values.tolist()\n",
    "\n",
    "valid_dataset = pd.DataFrame(valid_dataset)\\\n",
    "    .merge(df, left_on=\"file_perfect\", right_index=True).values.tolist()\n",
    "\n",
    "print(\"Sizes: train\", len(train_dataset), \", test\", len(test_dataset), \", validation\", len(valid_dataset))"
   ],
   "metadata": {
    "collapsed": false,
    "ExecuteTime": {
     "end_time": "2023-12-12T09:08:04.774283Z",
     "start_time": "2023-12-12T09:08:04.718930400Z"
    }
   },
   "id": "ecf444620bddb932"
  },
  {
   "cell_type": "code",
   "execution_count": 36,
   "outputs": [],
   "source": [
    "train_loader = DataLoader(train_dataset, batch_size=2, shuffle=True)\n",
    "test_loader = DataLoader(test_dataset, batch_size=2, shuffle=True)\n",
    "valid_loader = DataLoader(valid_dataset, batch_size=2, shuffle=True)"
   ],
   "metadata": {
    "collapsed": false,
    "ExecuteTime": {
     "end_time": "2023-12-12T09:08:04.774283Z",
     "start_time": "2023-12-12T09:08:04.743123600Z"
    }
   },
   "id": "70a51c11f76590e4"
  },
  {
   "cell_type": "markdown",
   "source": [
    "# Train the model"
   ],
   "metadata": {
    "collapsed": false
   },
   "id": "d5c542b1e72038ee"
  },
  {
   "cell_type": "code",
   "execution_count": 37,
   "outputs": [],
   "source": [
    "class Denoiser(nn.Module):\n",
    "    def __init__(self):\n",
    "        super().__init__()\n",
    "        # defining the encoder\n",
    "        self.conv1 = nn.Conv2d(1, 32, kernel_size=3, padding=1, stride=1)\n",
    "        self.conv2 = nn.Conv2d(32, 64, kernel_size=3, padding=1, stride=1)\n",
    "        \n",
    "        # defining pooling  \n",
    "        self.pool = nn.MaxPool2d(2,2)\n",
    "        \n",
    "        # defining the decoder\n",
    "        self.conv2d_1 = nn.Conv2d(64, 64, kernel_size=3, padding=1, stride=1)\n",
    "        self.conv2d_2 = nn.Conv2d(64, 32, kernel_size=3, padding=1, stride=1)\n",
    "        self.conv2d_3 = nn.Conv2d(32, 1, kernel_size=3, padding=1, stride=1)\n",
    "    \n",
    "    def forward(self, x):\n",
    "        # passing the image through encoder 1\n",
    "        x = self.conv1(x)\n",
    "        x = F.relu(x)\n",
    "        x = self.pool(x)\n",
    "        \n",
    "        # passing the image through encoder 2\n",
    "        x = self.conv2(x)\n",
    "        x = F.relu(x)\n",
    "        x = self.pool(x)\n",
    "        \n",
    "        # passing the encoded part through decoder 1\n",
    "        x = self.conv2d_1(x)\n",
    "        x = F.relu(x)\n",
    "        x = F.interpolate(x, scale_factor=2, mode='nearest')\n",
    "        \n",
    "        x = self.conv2d_2(x)\n",
    "        x = F.relu(x)\n",
    "        x = F.interpolate(x, scale_factor=2, mode='nearest')\n",
    "        \n",
    "        x = self.conv2d_3(x)\n",
    "        \n",
    "        x = F.interpolate(x, size =(3508, 2480), mode='nearest')\n",
    "        \n",
    "        x = F.sigmoid(x)\n",
    "\n",
    "        return x"
   ],
   "metadata": {
    "collapsed": false,
    "ExecuteTime": {
     "end_time": "2023-12-12T09:08:04.775283700Z",
     "start_time": "2023-12-12T09:08:04.747248700Z"
    }
   },
   "id": "5f002eae9afb905e"
  },
  {
   "cell_type": "code",
   "execution_count": 38,
   "outputs": [
    {
     "name": "stdout",
     "output_type": "stream",
     "text": [
      "Cuda Available..Training on GPU\n"
     ]
    }
   ],
   "source": [
    "model = Denoiser()\n",
    "\n",
    "if torch.cuda.is_available():\n",
    "    print('Cuda Available..Training on GPU')\n",
    "    model = model.cuda()\n",
    "else:\n",
    "\tprint('CUDA not available..Traning on CPU')\n",
    "\n",
    "# defining the loss function\n",
    "criterion = nn.MSELoss()\n",
    "\n",
    "# defining the optimizer\n",
    "optimizer = torch.optim.Adam(model.parameters(), lr=0.001)"
   ],
   "metadata": {
    "collapsed": false,
    "ExecuteTime": {
     "end_time": "2023-12-12T09:08:04.775283700Z",
     "start_time": "2023-12-12T09:08:04.750875200Z"
    }
   },
   "id": "9e94b70df78e2a8f"
  },
  {
   "cell_type": "code",
   "execution_count": 39,
   "outputs": [],
   "source": [
    "result_scale = (3508, 2480)\n",
    "\n",
    "transform_big = transforms.Compose([\n",
    "    transforms.Resize(result_scale), \n",
    "    transforms.ToTensor(), \n",
    "    transforms.Normalize(0.5, 0.5)])\n",
    "\n",
    "transform_small = transforms.Compose([\n",
    "    transforms.Resize((3508 // 2, 2480 // 2)), \n",
    "    transforms.ToTensor(), \n",
    "    transforms.Normalize(0.5, 0.5)])\n",
    "\n",
    "def convert_perfect_image(image):\n",
    "    image = Image.open(f\"{path_perfect}/{image}\").convert('L')\n",
    "    return transform_big(image).squeeze()\n",
    "\n",
    "def convert_broken_image(image):\n",
    "    image = Image.open(f\"{path_broken}/{image}\").convert('L')\n",
    "    return transform_small(image).squeeze()"
   ],
   "metadata": {
    "collapsed": false,
    "ExecuteTime": {
     "end_time": "2023-12-12T09:08:04.775283700Z",
     "start_time": "2023-12-12T09:08:04.756308200Z"
    }
   },
   "id": "f9983d549ad4e24f"
  },
  {
   "cell_type": "code",
   "execution_count": 40,
   "outputs": [
    {
     "name": "stdout",
     "output_type": "stream",
     "text": [
      "Saving model to save/model_12_12_2023_100804.pt\n",
      "\n",
      "Epoch: 1/1\n",
      "Valid  0.9889\n",
      "Loss Decreased... (inf -> 0.065)  Saving Model..\n"
     ]
    }
   ],
   "source": [
    "epochs = 1\n",
    "\n",
    "min_valid_loss = np.Inf\n",
    "\n",
    "date_time = datetime.fromtimestamp(time.time())\n",
    "save_file = f\"save/model_{date_time.strftime('%d_%m_%Y_%H%M%S')}.pt\"\n",
    "\n",
    "print(f\"Saving model to {save_file}\")\n",
    "\n",
    "training_losses = []\n",
    "validation_losses = []\n",
    "\n",
    "for epoch in range(epochs):\n",
    "    print(f'\\nEpoch: {epoch+1}/{epochs}')\n",
    "    \n",
    "    training_loss = 0\n",
    "    \n",
    "    for i, (files_perfect, files_broken) in enumerate(train_loader):\n",
    "        print(\"\\rTrain \", round(i/len(train_loader), 4), end=\"\")\n",
    "        \n",
    "        try:\n",
    "            images_perfect = torch.stack([convert_perfect_image(ip) for ip in files_perfect])\n",
    "            images_broken = torch.stack([convert_broken_image(ib) for ib in files_broken])\n",
    "        except Exception as e:\n",
    "            print(f\"Problem with {files_perfect}, {files_broken}: {str(e)}\\n\\n\")\n",
    "            continue\n",
    "        \n",
    "        if torch.cuda.is_available():\n",
    "            images_broken, images_perfect = images_broken.cuda(), images_perfect.cuda()\n",
    "        \n",
    "        images_broken = images_broken.unsqueeze(1)\n",
    "        images_perfect = images_perfect.unsqueeze(1)\n",
    "        \n",
    "        outputs = model(images_broken)\n",
    "        loss = criterion(outputs, images_perfect)\n",
    "        \n",
    "        optimizer.zero_grad()\n",
    "        loss.backward()\n",
    "        optimizer.step()\n",
    "        \n",
    "        training_loss += loss.item()\n",
    "    \n",
    "    training_loss = training_loss / len(train_loader)\n",
    "    training_losses.append(training_loss)\n",
    "    \n",
    "    with torch.no_grad():\n",
    "        valid_loss = 0\n",
    "        \n",
    "        for j, (files_perfect, files_broken) in enumerate(valid_loader):\n",
    "            print(\"\\rValid \", round(j/len(valid_loader), 4), end=\"\")    \n",
    "            try:\n",
    "                images_perfect = torch.stack([convert_perfect_image(ip) for ip in files_perfect])\n",
    "                images_broken = torch.stack([convert_broken_image(ib) for ib in files_broken])\n",
    "            except Exception as e:\n",
    "                print(f\"Problem with {files_perfect}, {files_broken}: {str(e)}\\n\\n\")\n",
    "                continue\n",
    "            \n",
    "            if torch.cuda.is_available():\n",
    "                images_broken, images_perfect = images_broken.cuda(), images_perfect.cuda()\n",
    "                \n",
    "                images_broken = images_broken.unsqueeze(1)\n",
    "                images_perfect = images_perfect.unsqueeze(1)\n",
    "            \n",
    "                outputs = model(images_broken)\n",
    "                loss = criterion(outputs, images_perfect)\n",
    "                \n",
    "                valid_loss += loss.item()\n",
    "        \n",
    "        valid_loss = valid_loss / len(valid_loader)\n",
    "        validation_losses.append(valid_loss)    \n",
    "        \n",
    "        if valid_loss < min_valid_loss:\n",
    "            print(f'\\nLoss Decreased... ({min_valid_loss:.3f} -> {valid_loss:.3f})  Saving Model..')\n",
    "            torch.save(model.state_dict(), save_file)\n",
    "            min_valid_loss = valid_loss"
   ],
   "metadata": {
    "collapsed": false,
    "ExecuteTime": {
     "end_time": "2023-12-12T09:14:44.134811200Z",
     "start_time": "2023-12-12T09:08:04.758778500Z"
    }
   },
   "id": "4b6a848b9c96a24a"
  },
  {
   "cell_type": "code",
   "execution_count": 41,
   "outputs": [
    {
     "data": {
      "text/plain": "([0.08060695113200281], [0.0652334988117218])"
     },
     "execution_count": 41,
     "metadata": {},
     "output_type": "execute_result"
    }
   ],
   "source": [
    "training_losses, validation_losses"
   ],
   "metadata": {
    "collapsed": false,
    "ExecuteTime": {
     "end_time": "2023-12-12T09:14:44.140322800Z",
     "start_time": "2023-12-12T09:14:44.134811200Z"
    }
   },
   "id": "e1fd816c720b1669"
  },
  {
   "cell_type": "code",
   "execution_count": 42,
   "outputs": [
    {
     "data": {
      "text/plain": "<Figure size 640x480 with 1 Axes>",
      "image/png": "[encoded data removed]"
     },
     "metadata": {},
     "output_type": "display_data"
    }
   ],
   "source": [
    "plt.plot(training_losses, label=\"Training Loss\")\n",
    "plt.plot(validation_losses, label=\"Validation Loss\")\n",
    "plt.legend()\n",
    "plt.show()"
   ],
   "metadata": {
    "collapsed": false,
    "ExecuteTime": {
     "end_time": "2023-12-12T09:14:44.198276300Z",
     "start_time": "2023-12-12T09:14:44.137319100Z"
    }
   },
   "id": "b573b613c77ffd6a"
  },
  {
   "cell_type": "code",
   "execution_count": 45,
   "outputs": [],
   "source": [
    "model = Denoiser()\n",
    "model.load_state_dict(torch.load(\"save/model_12_12_2023_100804.pt\"))\n",
    "model = model.cuda()"
   ],
   "metadata": {
    "collapsed": false,
    "ExecuteTime": {
     "end_time": "2023-12-12T09:15:04.003215400Z",
     "start_time": "2023-12-12T09:15:03.995227800Z"
    }
   },
   "id": "bba27f3383334c65"
  },
  {
   "cell_type": "code",
   "execution_count": 46,
   "outputs": [],
   "source": [
    "for files_perfect, files_broken in test_loader:\n",
    "    images_perfect = torch.stack([convert_perfect_image(i) for i in files_perfect])\n",
    "    images_broken = torch.stack([convert_broken_image(i) for i in files_broken])\n",
    "    \n",
    "    if torch.cuda.is_available():\n",
    "        images_broken = images_broken.cuda()\n",
    "\n",
    "    tensor_predictions = model(images_broken.unsqueeze(1))\n",
    "    \n",
    "    for ic, ib, ip in zip(images_perfect, images_broken, tensor_predictions):\n",
    "        ic = ((0.5 *  ic.numpy() + 0.5) * 255).astype(np.uint8).squeeze()\n",
    "        ic = Image.fromarray(ic).convert('L')\n",
    "        ic.show()\n",
    "        \n",
    "        ib = ((0.5 *  ib.cpu().numpy() + 0.5) * 255).astype(np.uint8).squeeze()\n",
    "        ib = Image.fromarray(ib).convert('L')\n",
    "        ib.show()\n",
    "        \n",
    "        \n",
    "        ip = ((0.5 *  ip.squeeze(0).cpu().detach().numpy() + 0.5) * 255).astype(np.uint8).squeeze()\n",
    "        #ip[ip < 200] = 0\n",
    "        #ip[ip >= 200] = 255\n",
    "        ip = Image.fromarray(ip).convert('L')\n",
    "        ip.show()\n",
    "        break\n",
    "    \n",
    "    break"
   ],
   "metadata": {
    "collapsed": false,
    "ExecuteTime": {
     "end_time": "2023-12-12T09:15:15.280700600Z",
     "start_time": "2023-12-12T09:15:04.949207300Z"
    }
   },
   "id": "b20af83582556a90"
  },
  {
   "cell_type": "code",
   "execution_count": null,
   "outputs": [],
   "source": [],
   "metadata": {
    "collapsed": false
   },
   "id": "8a3bc2c67a1206e6"
  }
 ],
 "metadata": {
  "kernelspec": {
   "display_name": "Python 3",
   "language": "python",
   "name": "python3"
  },
  "language_info": {
   "codemirror_mode": {
    "name": "ipython",
    "version": 2
   },
   "file_extension": ".py",
   "mimetype": "text/x-python",
   "name": "python",
   "nbconvert_exporter": "python",
   "pygments_lexer": "ipython2",
   "version": "2.7.6"
  }
 },
 "nbformat": 4,
 "nbformat_minor": 5
}
