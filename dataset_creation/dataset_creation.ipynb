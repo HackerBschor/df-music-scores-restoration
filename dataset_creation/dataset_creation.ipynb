{
 "cells": [
  {
   "cell_type": "markdown",
   "source": [
    "# Dataset Creation Pipeline"
   ],
   "metadata": {
    "collapsed": false
   },
   "id": "299709518a42fa18"
  },
  {
   "cell_type": "markdown",
   "source": [
    "### Imports "
   ],
   "metadata": {
    "collapsed": false
   },
   "id": "9182c848d4252444"
  },
  {
   "cell_type": "code",
   "execution_count": null,
   "outputs": [],
   "source": [
    "import os\n",
    "\n",
    "from dataset_creation.sheets_generator import RandomMusicGenerator\n",
    "from conversion_tools import convert_mxls_to_svg, convert_svgs_to_png\n",
    "from image_pair_tools import get_files_clean_dirty, create_dict_clean_dirty, convert_dict_clean_dirty_to_df"
   ],
   "metadata": {
    "collapsed": false
   },
   "id": "21e2d9e98de0e987"
  },
  {
   "cell_type": "markdown",
   "source": [
    "### Configuration"
   ],
   "metadata": {
    "collapsed": false
   },
   "id": "c207a05361cd7a17"
  },
  {
   "cell_type": "code",
   "execution_count": 4,
   "id": "initial_id",
   "metadata": {
    "collapsed": true,
    "ExecuteTime": {
     "end_time": "2023-12-14T10:19:20.422312960Z",
     "start_time": "2023-12-14T10:19:20.375071439Z"
    }
   },
   "outputs": [],
   "source": [
    "# Set variables and paths\n",
    "dataset_path: str = '../dataset/'\n",
    "num_generated_mxls: int = 2\n",
    "\n",
    "# Artificial Music Sheets\n",
    "sheets_generation_path: [None, str] = os.path.join(dataset_path, \"generated\")\n",
    "sheets_generation_xml_path: str = os.path.join(sheets_generation_path, \"musicxml\")\n",
    "sheets_generation_svg_path: str = os.path.join(sheets_generation_path, \"render_svg\")\n",
    "sheets_generation_png_path: str = os.path.join(sheets_generation_path, \"render_png\")\n",
    "\n",
    "\n",
    "# Existing music sheets\n",
    "existing_sheets_path: [None, str] = os.path.join(dataset_path, \"existing\")\n",
    "existing_sheets_mxl_path: str = os.path.join(existing_sheets_path, \"musicxml\")\n",
    "existing_sheets_svg_path: str = os.path.join(existing_sheets_path, \"render_svg\")\n",
    "existing_sheets_png_path: str = os.path.join(existing_sheets_path, \"render_png\")\n",
    "\n",
    "pairs_clean_path = os.path.join(dataset_path, \"pairs\", \"clean\")\n",
    "pairs_dirty_path = os.path.join(dataset_path, \"pairs\", \"dirty\")\n",
    "index_clean_dirty = os.path.join(dataset_path, \"pairs\", \"clean_dirty_index.csv\")\n",
    "\n",
    "# Create derived variables and check (+create) paths \n",
    "convert_existing_sheets: bool = existing_sheets_path is not None\n",
    "create_artificial_sheets: bool = sheets_generation_path is not None\n",
    "\n",
    "assert num_generated_mxls > 0\n",
    "assert os.path.isdir(dataset_path)\n",
    "assert os.path.isdir(sheets_generation_path) or not create_artificial_sheets\n",
    "assert os.path.isdir(existing_sheets_path) or not convert_existing_sheets\n",
    "\n",
    "if create_artificial_sheets:\n",
    "    os.makedirs(sheets_generation_xml_path, exist_ok=True)\n",
    "    os.makedirs(sheets_generation_svg_path, exist_ok=True)\n",
    "    os.makedirs(sheets_generation_png_path, exist_ok=True)\n",
    "    \n",
    "if convert_existing_sheets:\n",
    "    assert os.path.isdir(existing_sheets_mxl_path), \"Needs existing musicxml files to convert them\"\n",
    "    assert len(os.listdir(existing_sheets_mxl_path)) > 0, \"Needs existing musicxml files to convert them\"\n",
    "    os.makedirs(existing_sheets_svg_path, exist_ok=True)\n",
    "    os.makedirs(existing_sheets_png_path, exist_ok=existing_sheets_path)"
   ]
  },
  {
   "cell_type": "markdown",
   "source": [
    "## Generate Music Sheets\n",
    "### Artificial Music Sheets\n",
    "\n",
    "Here we create n music sheets, save them as MusicXML (MXLs) and convert them to SVGs and PNGs."
   ],
   "metadata": {
    "collapsed": false
   },
   "id": "5b84f4529865ab82"
  },
  {
   "cell_type": "code",
   "execution_count": null,
   "outputs": [],
   "source": [
    "if create_artificial_sheets:\n",
    "    for i in range(num_generated_mxls):\n",
    "        rmg: RandomMusicGenerator = RandomMusicGenerator()\n",
    "        rmg.play_music_to_xml(sheets_generation_xml_path, f\"generated_{i}\")\n",
    "       \n",
    "    convert_mxls_to_svg(sheets_generation_xml_path, sheets_generation_svg_path)\n",
    "    convert_svgs_to_png(sheets_generation_svg_path, sheets_generation_png_path)"
   ],
   "metadata": {
    "collapsed": false
   },
   "id": "b5b32f1edb4560b7"
  },
  {
   "cell_type": "markdown",
   "source": [
    "### Existing Music Sheets\n",
    "Here we convert existing MusicXML (MXLs) files to SVGs and PNGs."
   ],
   "metadata": {
    "collapsed": false
   },
   "id": "b554f5558114f242"
  },
  {
   "cell_type": "code",
   "execution_count": null,
   "outputs": [],
   "source": [
    "if convert_existing_sheets:\n",
    "    convert_mxls_to_svg(existing_sheets_mxl_path, existing_sheets_svg_path)\n",
    "    convert_svgs_to_png(existing_sheets_svg_path, existing_sheets_png_path)"
   ],
   "metadata": {
    "collapsed": false
   },
   "id": "481bb79537465fa5"
  },
  {
   "cell_type": "markdown",
   "source": [
    "Now it's time to apply some data augmentations using [DocCreator](https://doc-creator.labri.fr/). \n",
    "After the creation we can continue with the next step.\n",
    "\n",
    "# Create index for identification during training"
   ],
   "metadata": {
    "collapsed": false
   },
   "id": "3ae461e9b5001e23"
  },
  {
   "cell_type": "code",
   "execution_count": null,
   "outputs": [],
   "source": [
    "files_clean, files_dirty = get_files_clean_dirty(pairs_clean_path, pairs_dirty_path)\n",
    "dict_clean_dirty = create_dict_clean_dirty(files_clean, files_dirty)\n",
    "df_clean_dirty = convert_dict_clean_dirty_to_df(dict_clean_dirty)\n",
    "df_clean_dirty"
   ],
   "metadata": {
    "collapsed": false
   },
   "id": "f91e7fc116151d3e"
  },
  {
   "cell_type": "code",
   "execution_count": null,
   "outputs": [],
   "source": [
    "df_clean_dirty.to_csv(index_clean_dirty)"
   ],
   "metadata": {
    "collapsed": false,
    "is_executing": true
   },
   "id": "72cb2093079c9857"
  }
 ],
 "metadata": {
  "kernelspec": {
   "display_name": "Python 3",
   "language": "python",
   "name": "python3"
  },
  "language_info": {
   "codemirror_mode": {
    "name": "ipython",
    "version": 2
   },
   "file_extension": ".py",
   "mimetype": "text/x-python",
   "name": "python",
   "nbconvert_exporter": "python",
   "pygments_lexer": "ipython2",
   "version": "2.7.6"
  }
 },
 "nbformat": 4,
 "nbformat_minor": 5
}
