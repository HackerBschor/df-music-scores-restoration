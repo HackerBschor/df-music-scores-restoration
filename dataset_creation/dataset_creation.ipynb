{
 "cells": [
  {
   "cell_type": "markdown",
   "source": [
    "# Dataset Creation Pipeline"
   ],
   "metadata": {
    "collapsed": false
   },
   "id": "299709518a42fa18"
  },
  {
   "cell_type": "markdown",
   "source": [
    "### Imports "
   ],
   "metadata": {
    "collapsed": false
   },
   "id": "9182c848d4252444"
  },
  {
   "cell_type": "code",
   "execution_count": 4,
   "outputs": [
    {
     "name": "stderr",
     "output_type": "stream",
     "text": [
      "WARNING:root:python-rtmidi was not found; streaming midi input / output will not be available.\n",
      "WARNING:root:pynput was not found; mouse and keyboard input will not be available.\n"
     ]
    }
   ],
   "source": [
    "import os\n",
    "\n",
    "from dataset_creation.sheets_generator import RandomMusicGenerator\n",
    "\n",
    "from conversion_tools import convert_mxls_to_svg, convert_svgs_to_png"
   ],
   "metadata": {
    "collapsed": false,
    "ExecuteTime": {
     "end_time": "2023-12-14T09:36:39.943288775Z",
     "start_time": "2023-12-14T09:36:39.624527714Z"
    }
   },
   "id": "21e2d9e98de0e987"
  },
  {
   "cell_type": "markdown",
   "source": [
    "### Configuration"
   ],
   "metadata": {
    "collapsed": false
   },
   "id": "c207a05361cd7a17"
  },
  {
   "cell_type": "code",
   "execution_count": 5,
   "id": "initial_id",
   "metadata": {
    "collapsed": true,
    "ExecuteTime": {
     "end_time": "2023-12-14T09:36:40.916525449Z",
     "start_time": "2023-12-14T09:36:40.904123719Z"
    }
   },
   "outputs": [],
   "source": [
    "# Set variables and paths\n",
    "dataset_path: str = '../dataset/'\n",
    "num_generated_mxls: int = 2\n",
    "\n",
    "# Artificial Music Sheets\n",
    "sheets_generation_path: [None, str] = os.path.join(dataset_path, \"sheets_generation\")\n",
    "sheets_generation_xml_path: str = os.path.join(sheets_generation_path, \"musicxml\")\n",
    "sheets_generation_svg_path: str = os.path.join(sheets_generation_path, \"render_svg\")\n",
    "sheets_generation_png_path: str = os.path.join(sheets_generation_path, \"render_png\")\n",
    "\n",
    "\n",
    "# Existing music sheets\n",
    "existing_sheets_path: [None, str] = os.path.join(dataset_path, \"existing\")\n",
    "existing_sheets_mxl_path: str = os.path.join(existing_sheets_path, \"musicxml\")\n",
    "existing_sheets_svg_path: str = os.path.join(existing_sheets_path, \"render_svg\")\n",
    "existing_sheets_png_path: str = os.path.join(existing_sheets_path, \"render_png\")\n",
    "\n",
    "# Create derived variables and check (+create) paths \n",
    "convert_existing_sheets: bool = existing_sheets_path is not None\n",
    "create_artificial_sheets: bool = sheets_generation_path is not None\n",
    "\n",
    "assert num_generated_mxls > 0\n",
    "assert os.path.isdir(dataset_path)\n",
    "assert os.path.isdir(sheets_generation_path) or not create_artificial_sheets\n",
    "assert os.path.isdir(existing_sheets_path) or not convert_existing_sheets\n",
    "\n",
    "if create_artificial_sheets:\n",
    "    os.makedirs(sheets_generation_xml_path, exist_ok=True)\n",
    "    os.makedirs(sheets_generation_svg_path, exist_ok=True)\n",
    "    os.makedirs(sheets_generation_png_path, exist_ok=True)\n",
    "    \n",
    "if convert_existing_sheets:\n",
    "    assert os.path.isdir(existing_sheets_mxl_path), \"Needs existing musicxml files to convert them\"\n",
    "    assert len(os.listdir(existing_sheets_mxl_path)) > 0, \"Needs existing musicxml files to convert them\"\n",
    "    os.makedirs(existing_sheets_svg_path, exist_ok=True)\n",
    "    os.makedirs(existing_sheets_png_path, exist_ok=existing_sheets_path)"
   ]
  },
  {
   "cell_type": "markdown",
   "source": [
    "## Generate Music Sheets\n",
    "### Artificial Music Sheets\n",
    "\n",
    "Here we create n music sheets, save them as MusicXML (MXLs) and convert them to SVGs and PNGs."
   ],
   "metadata": {
    "collapsed": false
   },
   "id": "5b84f4529865ab82"
  },
  {
   "cell_type": "code",
   "execution_count": null,
   "outputs": [],
   "source": [
    "if create_artificial_sheets:\n",
    "    for i in range(num_generated_mxls):\n",
    "        rmg: RandomMusicGenerator = RandomMusicGenerator()\n",
    "        rmg.play_music_to_xml(sheets_generation_xml_path, f\"generated_{i}\")\n",
    "       \n",
    "    convert_mxls_to_svg(sheets_generation_xml_path, sheets_generation_svg_path)\n",
    "    convert_svgs_to_png(sheets_generation_svg_path, sheets_generation_png_path)"
   ],
   "metadata": {
    "collapsed": false
   },
   "id": "b5b32f1edb4560b7"
  },
  {
   "cell_type": "markdown",
   "source": [
    "### Existing Music Sheets\n",
    "Here we convert existing MusicXML (MXLs) files to SVGs and PNGs."
   ],
   "metadata": {
    "collapsed": false
   },
   "id": "b554f5558114f242"
  },
  {
   "cell_type": "code",
   "execution_count": null,
   "outputs": [],
   "source": [
    "if convert_existing_sheets:\n",
    "    convert_mxls_to_svg(existing_sheets_mxl_path, existing_sheets_svg_path)\n",
    "    convert_svgs_to_png(existing_sheets_svg_path, existing_sheets_png_path)"
   ],
   "metadata": {
    "collapsed": false
   },
   "id": "481bb79537465fa5"
  }
 ],
 "metadata": {
  "kernelspec": {
   "display_name": "Python 3",
   "language": "python",
   "name": "python3"
  },
  "language_info": {
   "codemirror_mode": {
    "name": "ipython",
    "version": 2
   },
   "file_extension": ".py",
   "mimetype": "text/x-python",
   "name": "python",
   "nbconvert_exporter": "python",
   "pygments_lexer": "ipython2",
   "version": "2.7.6"
  }
 },
 "nbformat": 4,
 "nbformat_minor": 5
}
