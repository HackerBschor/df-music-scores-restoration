{
 "cells": [
  {
   "cell_type": "markdown",
   "source": [
    "# Dataset Creation Pipeline\n",
    "\n",
    "## Set Variables"
   ],
   "metadata": {
    "collapsed": false
   },
   "id": "299709518a42fa18"
  },
  {
   "cell_type": "markdown",
   "source": [
    "### Imports "
   ],
   "metadata": {
    "collapsed": false
   },
   "id": "9182c848d4252444"
  },
  {
   "cell_type": "code",
   "execution_count": 19,
   "outputs": [],
   "source": [
    "import os\n",
    "\n",
    "from dataset_creation.sheets_generator import RandomMusicGenerator"
   ],
   "metadata": {
    "collapsed": false,
    "ExecuteTime": {
     "end_time": "2023-12-13T22:10:25.040310900Z",
     "start_time": "2023-12-13T22:10:25.025894300Z"
    }
   },
   "id": "21e2d9e98de0e987"
  },
  {
   "cell_type": "code",
   "execution_count": 16,
   "id": "initial_id",
   "metadata": {
    "collapsed": true,
    "ExecuteTime": {
     "end_time": "2023-12-13T22:09:47.990074100Z",
     "start_time": "2023-12-13T22:09:47.987016900Z"
    }
   },
   "outputs": [],
   "source": [
    "dataset_path: str = '../dataset_new/'\n",
    "assert os.path.isdir(dataset_path)\n",
    "\n",
    "existing_sheets_path: [None, str] = os.path.join(dataset_path, \"existing\")\n",
    "assert os.path.isdir(existing_sheets_path) or existing_sheets_path is None\n",
    "\n",
    "sheets_generation_path: [None, str] = os.path.join(dataset_path, \"sheets_generation\")\n",
    "assert os.path.isdir(sheets_generation_path) or sheets_generation_path is None\n",
    "\n",
    "sheets_generation_xml_path = os.path.join(sheets_generation_path, \"musicxml\")\n",
    "assert os.path.isdir(sheets_generation_xml_path)"
   ]
  },
  {
   "cell_type": "markdown",
   "source": [
    "## Generate Music Sheets"
   ],
   "metadata": {
    "collapsed": false
   },
   "id": "5b84f4529865ab82"
  },
  {
   "cell_type": "code",
   "execution_count": 22,
   "outputs": [
    {
     "name": "stderr",
     "output_type": "stream",
     "text": [
      "WARNING:root:Could not find preset matching 6capdb58ga. Falling back to preset 0 (probably piano).\n",
      "WARNING:root:Could not find preset matching i. Falling back to preset 0 (probably piano).\n",
      "WARNING:root:Could not find preset matching Y1akwex4jl78 77. Falling back to preset 0 (probably piano).\n"
     ]
    },
    {
     "ename": "DeadClockError",
     "evalue": "Cannot call fork from a clock that is no longer running.",
     "output_type": "error",
     "traceback": [
      "\u001B[1;31m---------------------------------------------------------------------------\u001B[0m",
      "\u001B[1;31mDeadClockError\u001B[0m                            Traceback (most recent call last)",
      "Cell \u001B[1;32mIn[22], line 4\u001B[0m\n\u001B[0;32m      1\u001B[0m rmg: RandomMusicGenerator \u001B[38;5;241m=\u001B[39m RandomMusicGenerator()\n\u001B[0;32m      3\u001B[0m \u001B[38;5;28;01mfor\u001B[39;00m i \u001B[38;5;129;01min\u001B[39;00m \u001B[38;5;28mrange\u001B[39m(\u001B[38;5;241m10\u001B[39m):\n\u001B[1;32m----> 4\u001B[0m     \u001B[43mrmg\u001B[49m\u001B[38;5;241;43m.\u001B[39;49m\u001B[43mplay_music_to_xml\u001B[49m\u001B[43m(\u001B[49m\u001B[43msheets_generation_xml_path\u001B[49m\u001B[43m,\u001B[49m\u001B[43m \u001B[49m\u001B[38;5;124;43mf\u001B[39;49m\u001B[38;5;124;43m\"\u001B[39;49m\u001B[38;5;124;43mgenerated_\u001B[39;49m\u001B[38;5;132;43;01m{\u001B[39;49;00m\u001B[43mi\u001B[49m\u001B[38;5;132;43;01m}\u001B[39;49;00m\u001B[38;5;124;43m.mxl\u001B[39;49m\u001B[38;5;124;43m\"\u001B[39;49m\u001B[43m)\u001B[49m\n",
      "File \u001B[1;32mF:\\PycharmProjects\\dl-music-scores-restoration\\dataset_creation\\sheets_generator.py:117\u001B[0m, in \u001B[0;36mRandomMusicGenerator.play_music_to_xml\u001B[1;34m(self, path, name, export_midi)\u001B[0m\n\u001B[0;32m    114\u001B[0m \u001B[38;5;28mself\u001B[39m\u001B[38;5;241m.\u001B[39ms\u001B[38;5;241m.\u001B[39mstart_transcribing()\n\u001B[0;32m    116\u001B[0m \u001B[38;5;28;01mfor\u001B[39;00m i \u001B[38;5;129;01min\u001B[39;00m \u001B[38;5;28mrange\u001B[39m(\u001B[38;5;28mself\u001B[39m\u001B[38;5;241m.\u001B[39mnum_instruments):\n\u001B[1;32m--> 117\u001B[0m     \u001B[38;5;28;43mself\u001B[39;49m\u001B[38;5;241;43m.\u001B[39;49m\u001B[43ms\u001B[49m\u001B[38;5;241;43m.\u001B[39;49m\u001B[43mfork\u001B[49m\u001B[43m(\u001B[49m\u001B[38;5;28;43;01mlambda\u001B[39;49;00m\u001B[43m \u001B[49m\u001B[43m_\u001B[49m\u001B[43m:\u001B[49m\u001B[43m \u001B[49m\u001B[38;5;28;43mself\u001B[39;49m\u001B[38;5;241;43m.\u001B[39;49m\u001B[43mplay\u001B[49m\u001B[43m(\u001B[49m\u001B[43mi\u001B[49m\u001B[43m)\u001B[49m\u001B[43m)\u001B[49m\n\u001B[0;32m    119\u001B[0m \u001B[38;5;28mself\u001B[39m\u001B[38;5;241m.\u001B[39ms\u001B[38;5;241m.\u001B[39mwait_for_children_to_finish()\n\u001B[0;32m    121\u001B[0m performance: Performance \u001B[38;5;241m=\u001B[39m \u001B[38;5;28mself\u001B[39m\u001B[38;5;241m.\u001B[39ms\u001B[38;5;241m.\u001B[39mstop_transcribing()\n",
      "File \u001B[1;32mF:\\PycharmProjects\\dl-music-scores-restoration\\venv\\Lib\\site-packages\\clockblocks\\clock.py:827\u001B[0m, in \u001B[0;36mClock.fork\u001B[1;34m(self, process_function, args, kwargs, name, initial_rate, initial_tempo, initial_beat_length, schedule_at, done_callback)\u001B[0m\n\u001B[0;32m    800\u001B[0m \u001B[38;5;250m\u001B[39m\u001B[38;5;124;03m\"\"\"\u001B[39;00m\n\u001B[0;32m    801\u001B[0m \u001B[38;5;124;03mSpawns a parallel process running on a child clock.\u001B[39;00m\n\u001B[0;32m    802\u001B[0m \n\u001B[1;32m   (...)\u001B[0m\n\u001B[0;32m    824\u001B[0m \u001B[38;5;124;03m:return: the clock of the spawned child process\u001B[39;00m\n\u001B[0;32m    825\u001B[0m \u001B[38;5;124;03m\"\"\"\u001B[39;00m\n\u001B[0;32m    826\u001B[0m \u001B[38;5;28;01mif\u001B[39;00m \u001B[38;5;129;01mnot\u001B[39;00m \u001B[38;5;28mself\u001B[39m\u001B[38;5;241m.\u001B[39malive:\n\u001B[1;32m--> 827\u001B[0m     \u001B[38;5;28;01mraise\u001B[39;00m DeadClockError(\u001B[38;5;124m\"\u001B[39m\u001B[38;5;124mCannot call fork from a clock that is no longer running.\u001B[39m\u001B[38;5;124m\"\u001B[39m)\n\u001B[0;32m    829\u001B[0m \u001B[38;5;66;03m# If we're calling fork from a non clock thread, or from the thread of a parent clock, we need to\u001B[39;00m\n\u001B[0;32m    830\u001B[0m \u001B[38;5;66;03m# rouse this clock, since it will be asleep.\u001B[39;00m\n\u001B[0;32m    831\u001B[0m \u001B[38;5;28;01mif\u001B[39;00m current_clock() \u001B[38;5;241m!=\u001B[39m \u001B[38;5;28mself\u001B[39m \u001B[38;5;129;01mand\u001B[39;00m (current_clock() \u001B[38;5;129;01mis\u001B[39;00m \u001B[38;5;28;01mNone\u001B[39;00m \u001B[38;5;129;01mor\u001B[39;00m \u001B[38;5;28mself\u001B[39m \u001B[38;5;129;01mnot\u001B[39;00m \u001B[38;5;129;01min\u001B[39;00m current_clock()\u001B[38;5;241m.\u001B[39miterate_inheritance()):\n",
      "\u001B[1;31mDeadClockError\u001B[0m: Cannot call fork from a clock that is no longer running."
     ]
    }
   ],
   "source": [
    "rmg: RandomMusicGenerator = RandomMusicGenerator()\n",
    "\n",
    "for i in range(10):\n",
    "    rmg.play_music_to_xml(sheets_generation_xml_path, f\"generated_{i}.mxl\")"
   ],
   "metadata": {
    "collapsed": false,
    "ExecuteTime": {
     "end_time": "2023-12-13T22:10:57.279614500Z",
     "start_time": "2023-12-13T22:10:53.673602700Z"
    }
   },
   "id": "b5b32f1edb4560b7"
  }
 ],
 "metadata": {
  "kernelspec": {
   "display_name": "Python 3",
   "language": "python",
   "name": "python3"
  },
  "language_info": {
   "codemirror_mode": {
    "name": "ipython",
    "version": 2
   },
   "file_extension": ".py",
   "mimetype": "text/x-python",
   "name": "python",
   "nbconvert_exporter": "python",
   "pygments_lexer": "ipython2",
   "version": "2.7.6"
  }
 },
 "nbformat": 4,
 "nbformat_minor": 5
}
